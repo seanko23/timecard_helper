{
 "cells": [
  {
   "cell_type": "code",
   "execution_count": 27,
   "id": "f23257bf",
   "metadata": {},
   "outputs": [],
   "source": [
    "import json\n",
    "import re\n",
    "\n",
    "class Email:\n",
    "    client_list = ['TRSC', 'VABC', 'CROC', 'EXLD']\n",
    "    \n",
    "    def __init__(self, file_name):\n",
    "        self.file_name = file_name\n",
    "        \n",
    "    def open_file(self):\n",
    "        f = open(self.file_name)\n",
    "        data = json.load(f)\n",
    "        f.close()\n",
    "        \n",
    "        return data\n",
    "        \n",
    "    def get_subject(self): # not calling open_file here, may need to adjust. Looking into it \n",
    "        #also reviewing if this qualifies for staticmethod\n",
    "        subject_list = []\n",
    "        \n",
    "        for i in self.open_file()['value']:\n",
    "            subject_list.append(i['subject'])\n",
    "        \n",
    "        return subject_list\n",
    "    \n",
    "    def get_date(self):\n",
    "        pass\n",
    "        \n",
    "\n",
    "    def get_case_number(self):\n",
    "        case_number_list = []\n",
    "        \n",
    "        for i in self.get_subject():\n",
    "            case_number = re.findall(r'(\\d{6})', i) # at this point case_number is a list type\n",
    "\n",
    "            for x in case_number:\n",
    "                case_number_str = \"\"\n",
    "                case_number_str += x\n",
    "                case_number_list.append(case_number_str)\n",
    "            \n",
    "        return case_number_list\n",
    "    \n",
    "    def get_client_code(self):\n",
    "        client_code_list = []\n",
    "        \n",
    "        for i in self.get_subject():\n",
    "            case_number = re.findall(r'(\\d{6})', i)\n",
    "            client_code = re.findall(r'(\\S{4})', i)\n",
    "\n",
    "            for x in client_code: # At this point nested list is called\n",
    "                client_code = x.upper()\n",
    "                if client_code in Email.client_list: # If match is found the for loop breaks here\n",
    "                    break\n",
    "                    \n",
    "                elif client_code not in Email.client_list: # Here match is not found\n",
    "                    no_client_code = \"UNKNOWN\"\n",
    "                    client_code = None\n",
    "    \n",
    "            if client_code is not None:\n",
    "                client_code_list.append(client_code)\n",
    "            else:\n",
    "                client_code_list.append(no_client_code)\n",
    "        return client_code_list\n",
    "    \n",
    "    def get_client_code_and_case_number(self):\n",
    "        result = dict(zip(self.get_case_number(), self.get_client_code()))\n",
    "        return result\n",
    "\n",
    "# The end result should look like this: {Date: [case#:client code, case#:client code]...}\n",
    "# Maybe I want to grab the subject as well"
   ]
  },
  {
   "cell_type": "code",
   "execution_count": 28,
   "id": "beec887b",
   "metadata": {},
   "outputs": [
    {
     "name": "stdout",
     "output_type": "stream",
     "text": [
      "{'123456': 'VABC', '987654': 'TRSC', '127654': 'EXLD', '127514': 'CROC', '734862': 'CROC', '984641': 'TRSC', '487616': 'UNKNOWN'}\n"
     ]
    }
   ],
   "source": [
    "print(Email('sample_json_message.json').get_client_code_and_case_number())\n",
    "#print(Email('sample_json_message.json').get_subject())"
   ]
  }
 ],
 "metadata": {
  "kernelspec": {
   "display_name": "Python 3 (ipykernel)",
   "language": "python",
   "name": "python3"
  },
  "language_info": {
   "codemirror_mode": {
    "name": "ipython",
    "version": 3
   },
   "file_extension": ".py",
   "mimetype": "text/x-python",
   "name": "python",
   "nbconvert_exporter": "python",
   "pygments_lexer": "ipython3",
   "version": "3.11.2"
  }
 },
 "nbformat": 4,
 "nbformat_minor": 5
}
